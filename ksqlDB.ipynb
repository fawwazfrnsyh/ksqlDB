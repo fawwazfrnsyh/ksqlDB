{
 "cells": [
  {
   "cell_type": "code",
   "execution_count": 6,
   "metadata": {},
   "outputs": [],
   "source": [
    "from confluent_kafka import Producer\n",
    "import json"
   ]
  },
  {
   "cell_type": "code",
   "execution_count": 11,
   "metadata": {},
   "outputs": [
    {
     "name": "stdout",
     "output_type": "stream",
     "text": [
      "Message produced: <cimpl.Message object at 0x00000257F7DD4DC0>\n",
      "Message produced: <cimpl.Message object at 0x00000257F7DD4DC0>\n",
      "Message produced: <cimpl.Message object at 0x00000257F7DD4DC0>\n",
      "Message produced: <cimpl.Message object at 0x00000257F7DD4DC0>\n",
      "Message produced: <cimpl.Message object at 0x00000257F7DD4DC0>\n",
      "Message produced: <cimpl.Message object at 0x00000257F7DD4DC0>\n",
      "Message produced: <cimpl.Message object at 0x00000257F7DD4DC0>\n",
      "Message produced: <cimpl.Message object at 0x00000257F7DD4DC0>\n",
      "Message produced: <cimpl.Message object at 0x00000257F7DD4DC0>\n",
      "Message produced: <cimpl.Message object at 0x00000257F7DD4DC0>\n",
      "Message produced: <cimpl.Message object at 0x00000257F7DD4DC0>\n",
      "Message produced: <cimpl.Message object at 0x00000257F7DD4DC0>\n",
      "Message produced: <cimpl.Message object at 0x00000257F7DD4DC0>\n",
      "Message produced: <cimpl.Message object at 0x00000257F7DD4DC0>\n",
      "Message produced: <cimpl.Message object at 0x00000257F7DD4DC0>\n",
      "Message produced: <cimpl.Message object at 0x00000257F7DD4DC0>\n",
      "Message produced: <cimpl.Message object at 0x00000257F7DD4DC0>\n",
      "Message produced: <cimpl.Message object at 0x00000257F7DD4DC0>\n",
      "Message produced: <cimpl.Message object at 0x00000257F7DD4DC0>\n",
      "Message produced: <cimpl.Message object at 0x00000257F7DD4DC0>\n"
     ]
    },
    {
     "data": {
      "text/plain": [
       "0"
      ]
     },
     "execution_count": 11,
     "metadata": {},
     "output_type": "execute_result"
    }
   ],
   "source": [
    "# Confluent Kafka topics\n",
    "topic = 'netflix'\n",
    "\n",
    "# Define the config for Kafka producer\n",
    "conf = {'bootstrap.servers': 'localhost:9092'}\n",
    "\n",
    "# Create Kafka producer instance\n",
    "producer = Producer(conf)\n",
    "\n",
    "def delivery_callback(err, msg):\n",
    "    if err is not None:\n",
    "        print(\"Failed to deliver message: %s: %s\" % (str(msg), str(err)))\n",
    "    else:\n",
    "        print(\"Message produced: %s\" % (str(msg)))\n",
    "\n",
    "# Load the netflix data\n",
    "with open('netflix_titles.json', 'rb') as f:\n",
    "    encoding = chardet.detect(f.read())['encoding']\n",
    "\n",
    "with open('netflix_titles.json', 'r', encoding=encoding) as f:\n",
    "    data = json.load(f)\n",
    "\n",
    "for record in data:\n",
    "    value = json.dumps(record)\n",
    "    producer.produce(topic=topic, value=value, callback=delivery_callback)\n",
    "\n",
    "producer.flush()"
   ]
  }
 ],
 "metadata": {
  "kernelspec": {
   "display_name": "Python 3",
   "language": "python",
   "name": "python3"
  },
  "language_info": {
   "codemirror_mode": {
    "name": "ipython",
    "version": 3
   },
   "file_extension": ".py",
   "mimetype": "text/x-python",
   "name": "python",
   "nbconvert_exporter": "python",
   "pygments_lexer": "ipython3",
   "version": "3.11.2"
  },
  "orig_nbformat": 4
 },
 "nbformat": 4,
 "nbformat_minor": 2
}
